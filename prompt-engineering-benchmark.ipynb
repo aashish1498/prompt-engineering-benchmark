{
 "cells": [
  {
   "cell_type": "code",
   "execution_count": null,
   "metadata": {},
   "outputs": [],
   "source": [
    "from initial_performant_prompt import matrix_prime_performant_prompt\n",
    "from no_initial_prompt import matrix_prime_no_initial_prompt, matrix_prime_no_initial_prompt_no_print\n",
    "from utilities import benchmark_time, generate_random_matrix_pairs, print_benchmark"
   ]
  },
  {
   "cell_type": "code",
   "execution_count": null,
   "metadata": {},
   "outputs": [],
   "source": [
    "# This block is to verify the output of both methods\n",
    "\n",
    "matrix1 = [\n",
    "    [1, 2, 3],\n",
    "    [4, 5, 6],\n",
    "    [7, 8, 9]\n",
    "]\n",
    "\n",
    "matrix2 = [\n",
    "    [9, 8, 7],\n",
    "    [6, 5, 4],\n",
    "    [3, 2, 1]\n",
    "]\n",
    "\n",
    "sum_performant, nearest_prime_performant = matrix_prime_performant_prompt(matrix1, matrix2)\n",
    "sum_unmodified, nearest_prime_unmodified = matrix_prime_no_initial_prompt_no_print(matrix1, matrix2)\n",
    "\n",
    "print('(Method with no initial prompt)  Sum:', sum_unmodified, '| Prime: ', nearest_prime_unmodified)\n",
    "print('(Method with performance prompt) Sum:', sum_performant, '| Prime: ', nearest_prime_performant)"
   ]
  },
  {
   "cell_type": "code",
   "execution_count": null,
   "metadata": {},
   "outputs": [],
   "source": [
    "# Benchmark setup\n",
    "\n",
    "num_calls = 10000\n",
    "matrix_list = generate_random_matrix_pairs(num_calls)"
   ]
  },
  {
   "cell_type": "code",
   "execution_count": null,
   "metadata": {},
   "outputs": [],
   "source": [
    "# This block is to benchmark the two methods\n",
    "\n",
    "no_prompt_time = benchmark_time(matrix_list, matrix_prime_no_initial_prompt)\n",
    "performant_time = benchmark_time(matrix_list, matrix_prime_performant_prompt)\n",
    "improvement_factor = print_benchmark(no_prompt_time, performant_time, 'Time with no prompt', 'time with performance prompt')\n"
   ]
  },
  {
   "cell_type": "code",
   "execution_count": null,
   "metadata": {},
   "outputs": [],
   "source": [
    "# This block is to benchmark the two methods, but without the print statements\n",
    "\n",
    "no_prompt_time = benchmark_time(matrix_list, matrix_prime_no_initial_prompt_no_print)\n",
    "performant_time = benchmark_time(matrix_list, matrix_prime_performant_prompt)\n",
    "improvement_factor = print_benchmark(no_prompt_time, performant_time)"
   ]
  }
 ],
 "metadata": {
  "kernelspec": {
   "display_name": "test",
   "language": "python",
   "name": "python3"
  },
  "language_info": {
   "codemirror_mode": {
    "name": "ipython",
    "version": 3
   },
   "file_extension": ".py",
   "mimetype": "text/x-python",
   "name": "python",
   "nbconvert_exporter": "python",
   "pygments_lexer": "ipython3",
   "version": "3.9.15"
  },
  "orig_nbformat": 4
 },
 "nbformat": 4,
 "nbformat_minor": 2
}
